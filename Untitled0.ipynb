{
  "nbformat": 4,
  "nbformat_minor": 0,
  "metadata": {
    "colab": {
      "provenance": []
    },
    "kernelspec": {
      "name": "python3",
      "display_name": "Python 3"
    },
    "language_info": {
      "name": "python"
    }
  },
  "cells": [
    {
      "cell_type": "markdown",
      "source": [
        "Q.1 Write a simple program in HTML  that displays the heading \"HTML defines the content and structure of\n",
        "your website” on the web browser?"
      ],
      "metadata": {
        "id": "YKuc9LfLXa4-"
      }
    },
    {
      "cell_type": "code",
      "source": [
        "# Code Question No.1\n",
        "<!DOCTYPE html>\n",
        "<html lang=\"en\">\n",
        "<head>\n",
        "    <meta charset=\"UTF-8\">\n",
        "    <meta name=\"viewport\" content=\"width=device-width, initial-scale=1.0\">\n",
        "    <title>HTML Structure</title>\n",
        "</head>\n",
        "<body>\n",
        "    <h1>HTML defines the content and structure of your website</h1>\n",
        "</body>\n",
        "</html>"
      ],
      "metadata": {
        "colab": {
          "base_uri": "https://localhost:8080/",
          "height": 106
        },
        "id": "7i9ddlJxXk1Z",
        "outputId": "9a3476e6-9823-4b46-dcc2-1747d7f63d70"
      },
      "execution_count": 7,
      "outputs": [
        {
          "output_type": "error",
          "ename": "SyntaxError",
          "evalue": "invalid syntax (<ipython-input-7-4b5ce935ca9a>, line 2)",
          "traceback": [
            "\u001b[0;36m  File \u001b[0;32m\"<ipython-input-7-4b5ce935ca9a>\"\u001b[0;36m, line \u001b[0;32m2\u001b[0m\n\u001b[0;31m    <!DOCTYPE html>\u001b[0m\n\u001b[0m    ^\u001b[0m\n\u001b[0;31mSyntaxError\u001b[0m\u001b[0;31m:\u001b[0m invalid syntax\n"
          ]
        }
      ]
    },
    {
      "cell_type": "markdown",
      "source": [
        "Q.2 Explain the purpose of comments in HTML and provide an example of how to use comments in an HTML document?\n",
        "   -  Comments in HTML are used to add notes, explanations, or reminders within the code without affecting how the webpage is displayed. They help improve code readability, provide documentation, and make it easier to understand for other developers or future reference.\n",
        "\n"
      ],
      "metadata": {
        "id": "j02zj5KMYfNY"
      }
    },
    {
      "cell_type": "code",
      "source": [
        "# Example-- Using Comments in html\n",
        "\n",
        "<!DOCTYPE html>\n",
        "<html lang=\"en\">\n",
        "<head>\n",
        "    <meta charset=\"UTF-8\">\n",
        "    <meta name=\"viewport\" content=\"width=device-width, initial-scale=1.0\">\n",
        "    <title>Comments in HTML</title>\n",
        "</head>\n",
        "<body>\n",
        "    <!-- This is a main heading -->\n",
        "    <h1>Welcome to My Website</h1>\n",
        "\n",
        "    <!-- This section contains an introduction -->\n",
        "    <p>This website is about HTML basics.</p>\n",
        "</body>\n",
        "</html>\n"
      ],
      "metadata": {
        "id": "rRpYxcZ4ZpGy"
      },
      "execution_count": null,
      "outputs": []
    },
    {
      "cell_type": "markdown",
      "source": [
        "Q.3 Write an HTML program that includes a heading, a paragraph of text, a horizontal line, and a line break. Arrange these elements to create a simple web page layout?\n",
        "   -  HTML program that includes a heading, a paragraph of text, a horizontal line, and a line break.\n"
      ],
      "metadata": {
        "id": "strK_3zWa4Xg"
      }
    },
    {
      "cell_type": "code",
      "source": [
        "# Code Question No. 3---\n",
        "<!DOCTYPE html>\n",
        "<html lang=\"en\">\n",
        "<head>\n",
        "    <meta charset=\"UTF-8\">\n",
        "    <meta name=\"viewport\" content=\"width=device-width, initial-scale=1.0\">\n",
        "    <title>Simple Web Page</title>\n",
        "</head>\n",
        "<body>\n",
        "    <!-- Main heading -->\n",
        "    <h1>Welcome to My Simple Web Page</h1>\n",
        "\n",
        "    <!-- Paragraph of text -->\n",
        "    <p>This is a basic HTML web page and i am very happy to Write this code.</p>\n",
        "\n",
        "    <!-- Horizontal line -->\n",
        "    <hr>\n",
        "    <!-- Line break -->\n",
        "    <br>\n",
        "\n",
        "</body>\n",
        "</html>"
      ],
      "metadata": {
        "id": "1XRxkBUabxTu"
      },
      "execution_count": null,
      "outputs": []
    },
    {
      "cell_type": "markdown",
      "source": [
        "Q.4 Write a short note on Tag and element with an example?\n",
        "  - 1. Tag:- A tag is a part of an HTML document that defines the structure and behavior of content. It is enclosed within angle brackets (< >).\n",
        "  \n",
        "  Tags come in two types:\n",
        "\n",
        "  Opening Tag: <>\n",
        "\n",
        "  Closing Tag: </>\n",
        "\n",
        " 2. Element: An element consists w/b write somting   opening tag and closing tag, The hole structure is called element.\n",
        "\n",
        " Example:\n",
        "\n",
        "  Tag: <> (opening tag) and </> (closing tag).\n",
        "\n",
        "      Element: <>This is a paragraph.</> (the entire structure).\n",
        "\n",
        "\n",
        "\n",
        "\n",
        "Q.5  What is the DOCTYPE Declaration in HTML?\n",
        "-    The DOCTYPE declaration is used in HTML to tell the web browser which version of HTML the document is written in. It ensures that the browser renders the webpage correctly according to modern web standards.\n",
        "\n",
        "Syntax of DOCTYPE in HTML5:\n",
        "\n",
        "        <!DOCTYPE html>\n",
        "\n",
        "This declaration must be placed at the very beginning of an HTML document, before the <html> tag.\n",
        "\n",
        "\n",
        "\n",
        "\n",
        "\n",
        "\n",
        "\n",
        "\n",
        "\n",
        "  "
      ],
      "metadata": {
        "id": "089TMCIAd8wK"
      }
    }
  ]
}